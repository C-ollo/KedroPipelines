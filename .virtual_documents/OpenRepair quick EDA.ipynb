import polars as pl
from kedro.config import OmegaConfigLoader
from kedro.io import DataCatalog


# See https://github.com/kedro-org/kedro/issues/2583
conf_loader = OmegaConfigLoader("conf", config_patterns={"catalog": ["catalog.yml", "**/catalog.yml"]})

conf_catalog = conf_loader.get("catalog.yml")
catalog = DataCatalog.from_config(conf_catalog)

pl.Config.set_fmt_str_lengths(100)


df = catalog.load("openrepair-0_3-events-raw")
df.head()





len(df)


categories = pl.read_csv("data/OpenRepairData_v0.3_Product_Categories.csv")
categories.head()


df = df.select(pl.all().exclude("product_category")).join(
    categories, on="product_category_id"
)
df.head()


len(df)


df["country"].value_counts().sort("counts", descending=True).head()


df["product_category"].value_counts().sort(by="counts", descending=True).head(10)


df["repair_barrier_if_end_of_life"].value_counts()


df = df.with_columns(
    pl.col("repair_barrier_if_end_of_life").map_dict(
        {"Item too worn out": "Product too worn out"},
        default=pl.col("repair_barrier_if_end_of_life"),
    )
)
df["repair_barrier_if_end_of_life"].value_counts()



