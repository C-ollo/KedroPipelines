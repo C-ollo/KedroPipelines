{
 "cells": [
  {
   "cell_type": "markdown",
   "id": "8ccb776b-ff55-4bc0-a960-3f5df8ebbf97",
   "metadata": {},
   "source": [
    "Data from https://openrepair.org/open-data/downloads/\n",
    "\n",
    "(Source: https://openrepair.org/news/open-repair-alliance-dataset-increases-to-81000-records-of-community-repair/)"
   ]
  },
  {
   "cell_type": "code",
   "execution_count": 31,
   "id": "06366f85-2df0-4ee8-931a-f8d03f3161dc",
   "metadata": {
    "tags": []
   },
   "outputs": [
    {
     "data": {
      "text/plain": [
       "polars.config.Config"
      ]
     },
     "execution_count": 31,
     "metadata": {},
     "output_type": "execute_result"
    }
   ],
   "source": [
    "import polars as pl\n",
    "from kedro.config import OmegaConfigLoader\n",
    "from kedro.io import DataCatalog\n",
    "\n",
    "\n",
    "# See https://github.com/kedro-org/kedro/issues/2583\n",
    "conf_loader = OmegaConfigLoader(\"conf\", config_patterns={\"catalog\": [\"catalog.yml\", \"**/catalog.yml\"]})\n",
    "\n",
    "conf_catalog = conf_loader.get(\"catalog.yml\")\n",
    "catalog = DataCatalog.from_config(conf_catalog)\n",
    "\n",
    "pl.Config.set_fmt_str_lengths(100)"
   ]
  },
  {
   "cell_type": "code",
   "execution_count": 32,
   "id": "bf58772f",
   "metadata": {},
   "outputs": [
    {
     "ename": "DatasetNotFoundError",
     "evalue": "Dataset 'openrepair-0_3-events-raw' not found in the catalog",
     "output_type": "error",
     "traceback": [
      "\u001b[0;31m---------------------------------------------------------------------------\u001b[0m",
      "\u001b[0;31mDatasetNotFoundError\u001b[0m                      Traceback (most recent call last)",
      "Cell \u001b[0;32mIn[32], line 1\u001b[0m\n\u001b[0;32m----> 1\u001b[0m df \u001b[38;5;241m=\u001b[39m \u001b[43mcatalog\u001b[49m\u001b[38;5;241;43m.\u001b[39;49m\u001b[43mload\u001b[49m\u001b[43m(\u001b[49m\u001b[38;5;124;43m\"\u001b[39;49m\u001b[38;5;124;43mopenrepair-0_3-events-raw\u001b[39;49m\u001b[38;5;124;43m\"\u001b[39;49m\u001b[43m)\u001b[49m\n\u001b[1;32m      2\u001b[0m df\u001b[38;5;241m.\u001b[39mhead()\n",
      "File \u001b[0;32m/workspace/.pyenv_mirror/user/current/lib/python3.10/site-packages/kedro/io/data_catalog.py:343\u001b[0m, in \u001b[0;36mDataCatalog.load\u001b[0;34m(self, name, version)\u001b[0m\n\u001b[1;32m    315\u001b[0m \u001b[38;5;250m\u001b[39m\u001b[38;5;124;03m\"\"\"Loads a registered data set.\u001b[39;00m\n\u001b[1;32m    316\u001b[0m \n\u001b[1;32m    317\u001b[0m \u001b[38;5;124;03mArgs:\u001b[39;00m\n\u001b[0;32m   (...)\u001b[0m\n\u001b[1;32m    340\u001b[0m \u001b[38;5;124;03m    >>> df = io.load(\"cars\")\u001b[39;00m\n\u001b[1;32m    341\u001b[0m \u001b[38;5;124;03m\"\"\"\u001b[39;00m\n\u001b[1;32m    342\u001b[0m load_version \u001b[38;5;241m=\u001b[39m Version(version, \u001b[38;5;28;01mNone\u001b[39;00m) \u001b[38;5;28;01mif\u001b[39;00m version \u001b[38;5;28;01melse\u001b[39;00m \u001b[38;5;28;01mNone\u001b[39;00m\n\u001b[0;32m--> 343\u001b[0m dataset \u001b[38;5;241m=\u001b[39m \u001b[38;5;28;43mself\u001b[39;49m\u001b[38;5;241;43m.\u001b[39;49m\u001b[43m_get_dataset\u001b[49m\u001b[43m(\u001b[49m\u001b[43mname\u001b[49m\u001b[43m,\u001b[49m\u001b[43m \u001b[49m\u001b[43mversion\u001b[49m\u001b[38;5;241;43m=\u001b[39;49m\u001b[43mload_version\u001b[49m\u001b[43m)\u001b[49m\n\u001b[1;32m    345\u001b[0m \u001b[38;5;28mself\u001b[39m\u001b[38;5;241m.\u001b[39m_logger\u001b[38;5;241m.\u001b[39minfo(\n\u001b[1;32m    346\u001b[0m     \u001b[38;5;124m\"\u001b[39m\u001b[38;5;124mLoading data from \u001b[39m\u001b[38;5;124m'\u001b[39m\u001b[38;5;132;01m%s\u001b[39;00m\u001b[38;5;124m'\u001b[39m\u001b[38;5;124m (\u001b[39m\u001b[38;5;132;01m%s\u001b[39;00m\u001b[38;5;124m)...\u001b[39m\u001b[38;5;124m\"\u001b[39m, name, \u001b[38;5;28mtype\u001b[39m(dataset)\u001b[38;5;241m.\u001b[39m\u001b[38;5;18m__name__\u001b[39m\n\u001b[1;32m    347\u001b[0m )\n\u001b[1;32m    349\u001b[0m result \u001b[38;5;241m=\u001b[39m dataset\u001b[38;5;241m.\u001b[39mload()\n",
      "File \u001b[0;32m/workspace/.pyenv_mirror/user/current/lib/python3.10/site-packages/kedro/io/data_catalog.py:302\u001b[0m, in \u001b[0;36mDataCatalog._get_dataset\u001b[0;34m(self, data_set_name, version, suggest)\u001b[0m\n\u001b[1;32m    299\u001b[0m             suggestions \u001b[38;5;241m=\u001b[39m \u001b[38;5;124m\"\u001b[39m\u001b[38;5;124m, \u001b[39m\u001b[38;5;124m\"\u001b[39m\u001b[38;5;241m.\u001b[39mjoin(matches)\n\u001b[1;32m    300\u001b[0m             error_msg \u001b[38;5;241m+\u001b[39m\u001b[38;5;241m=\u001b[39m \u001b[38;5;124mf\u001b[39m\u001b[38;5;124m\"\u001b[39m\u001b[38;5;124m - did you mean one of these instead: \u001b[39m\u001b[38;5;132;01m{\u001b[39;00msuggestions\u001b[38;5;132;01m}\u001b[39;00m\u001b[38;5;124m\"\u001b[39m\n\u001b[0;32m--> 302\u001b[0m     \u001b[38;5;28;01mraise\u001b[39;00m DatasetNotFoundError(error_msg)\n\u001b[1;32m    304\u001b[0m data_set \u001b[38;5;241m=\u001b[39m \u001b[38;5;28mself\u001b[39m\u001b[38;5;241m.\u001b[39m_data_sets[data_set_name]\n\u001b[1;32m    305\u001b[0m \u001b[38;5;28;01mif\u001b[39;00m version \u001b[38;5;129;01mand\u001b[39;00m \u001b[38;5;28misinstance\u001b[39m(data_set, AbstractVersionedDataSet):\n\u001b[1;32m    306\u001b[0m     \u001b[38;5;66;03m# we only want to return a similar-looking dataset,\u001b[39;00m\n\u001b[1;32m    307\u001b[0m     \u001b[38;5;66;03m# not modify the one stored in the current catalog\u001b[39;00m\n",
      "\u001b[0;31mDatasetNotFoundError\u001b[0m: Dataset 'openrepair-0_3-events-raw' not found in the catalog"
     ]
    }
   ],
   "source": [
    "df = catalog.load(\"openrepair-0_3-events-raw\")\n",
    "df.head()"
   ]
  },
  {
   "cell_type": "code",
   "execution_count": null,
   "id": "6b842426-445c-46af-98be-2e7e13b77b17",
   "metadata": {},
   "outputs": [],
   "source": []
  },
  {
   "cell_type": "code",
   "execution_count": 3,
   "id": "8fa36b24",
   "metadata": {},
   "outputs": [
    {
     "data": {
      "text/plain": [
       "81189"
      ]
     },
     "execution_count": 3,
     "metadata": {},
     "output_type": "execute_result"
    }
   ],
   "source": [
    "len(df)"
   ]
  },
  {
   "cell_type": "code",
   "execution_count": 4,
   "id": "29596b7b",
   "metadata": {},
   "outputs": [
    {
     "data": {
      "text/html": [
       "<div><style>\n",
       ".dataframe > thead > tr > th,\n",
       ".dataframe > tbody > tr > td {\n",
       "  text-align: right;\n",
       "}\n",
       "</style>\n",
       "<small>shape: (5, 2)</small><table border=\"1\" class=\"dataframe\"><thead><tr><th>product_category_id</th><th>product_category</th></tr><tr><td>i64</td><td>str</td></tr></thead><tbody><tr><td>1</td><td>&quot;Aircon/dehumidifier&quot;</td></tr><tr><td>2</td><td>&quot;Battery/charger/adapter&quot;</td></tr><tr><td>3</td><td>&quot;Decorative or safety lights&quot;</td></tr><tr><td>4</td><td>&quot;Desktop computer&quot;</td></tr><tr><td>5</td><td>&quot;Digital compact camera&quot;</td></tr></tbody></table></div>"
      ],
      "text/plain": [
       "shape: (5, 2)\n",
       "┌─────────────────────┬─────────────────────────────┐\n",
       "│ product_category_id ┆ product_category            │\n",
       "│ ---                 ┆ ---                         │\n",
       "│ i64                 ┆ str                         │\n",
       "╞═════════════════════╪═════════════════════════════╡\n",
       "│ 1                   ┆ Aircon/dehumidifier         │\n",
       "│ 2                   ┆ Battery/charger/adapter     │\n",
       "│ 3                   ┆ Decorative or safety lights │\n",
       "│ 4                   ┆ Desktop computer            │\n",
       "│ 5                   ┆ Digital compact camera      │\n",
       "└─────────────────────┴─────────────────────────────┘"
      ]
     },
     "execution_count": 4,
     "metadata": {},
     "output_type": "execute_result"
    }
   ],
   "source": [
    "categories = pl.read_csv(\"data/OpenRepairData_v0.3_Product_Categories.csv\")\n",
    "categories.head()"
   ]
  },
  {
   "cell_type": "code",
   "execution_count": 5,
   "id": "ce0f51fe",
   "metadata": {},
   "outputs": [
    {
     "data": {
      "text/html": [
       "<div><style>\n",
       ".dataframe > thead > tr > th,\n",
       ".dataframe > tbody > tr > td {\n",
       "  text-align: right;\n",
       "}\n",
       "</style>\n",
       "<small>shape: (5, 14)</small><table border=\"1\" class=\"dataframe\"><thead><tr><th>id</th><th>data_provider</th><th>country</th><th>partner_product_category</th><th>product_category_id</th><th>brand</th><th>year_of_manufacture</th><th>product_age</th><th>repair_status</th><th>repair_barrier_if_end_of_life</th><th>group_identifier</th><th>event_date</th><th>problem</th><th>product_category</th></tr><tr><td>str</td><td>str</td><td>str</td><td>str</td><td>i64</td><td>str</td><td>i64</td><td>f64</td><td>str</td><td>str</td><td>str</td><td>date</td><td>str</td><td>str</td></tr></thead><tbody><tr><td>&quot;anstiftung_2749&quot;</td><td>&quot;anstiftung&quot;</td><td>&quot;DEU&quot;</td><td>&quot;Elektro divers ~ Nähmaschine&quot;</td><td>27</td><td>&quot;Unknown&quot;</td><td>null</td><td>null</td><td>&quot;Repairable&quot;</td><td>null</td><td>&quot;5073&quot;</td><td>2012-06-20</td><td>&quot;Funktionierte nicht mehr. Fehler und Lösung nicht dokumentiert.&quot;</td><td>&quot;Sewing machine&quot;</td></tr><tr><td>&quot;anstiftung_2750&quot;</td><td>&quot;anstiftung&quot;</td><td>&quot;DEU&quot;</td><td>&quot;Computer ~ Laptop&quot;</td><td>16</td><td>&quot;Unknown&quot;</td><td>null</td><td>null</td><td>&quot;Repairable&quot;</td><td>null</td><td>&quot;5073&quot;</td><td>2012-06-20</td><td>&quot;Wurde schnell heiß. Der Lüfter war sehr verschmutzt, wurde gereinigt. Das nächste Mal müssen wir no…</td><td>&quot;Laptop&quot;</td></tr><tr><td>&quot;anstiftung_2746&quot;</td><td>&quot;anstiftung&quot;</td><td>&quot;DEU&quot;</td><td>&quot;Computer ~ Drucker&quot;</td><td>25</td><td>&quot;Unknown&quot;</td><td>null</td><td>null</td><td>&quot;Fixed&quot;</td><td>null</td><td>&quot;5073&quot;</td><td>2012-06-20</td><td>&quot;Funktionierte nicht mehr. Fehler und Lösung nicht dokumentiert.&quot;</td><td>&quot;Printer/scanner&quot;</td></tr><tr><td>&quot;anstiftung_2747&quot;</td><td>&quot;anstiftung&quot;</td><td>&quot;DEU&quot;</td><td>&quot;Unterhaltungselektronik ~ Kopfhörer&quot;</td><td>11</td><td>&quot;Unknown&quot;</td><td>null</td><td>null</td><td>&quot;Fixed&quot;</td><td>null</td><td>&quot;5073&quot;</td><td>2012-06-20</td><td>&quot;Funktionierte nicht mehr. Fehler und Lösung nicht dokumentiert.&quot;</td><td>&quot;Headphones&quot;</td></tr><tr><td>&quot;anstiftung_2742&quot;</td><td>&quot;anstiftung&quot;</td><td>&quot;DEU&quot;</td><td>&quot;Haushaltsgeräte ~ Spielzeug&quot;</td><td>32</td><td>&quot;Unknown&quot;</td><td>null</td><td>null</td><td>&quot;Fixed&quot;</td><td>null</td><td>&quot;5073&quot;</td><td>2012-09-19</td><td>&quot;Die Beine der Puppe waren ab. Sie waren mit Fäden an der Hüfte befestigt, damit sie sich auf drehen…</td><td>&quot;Toy&quot;</td></tr></tbody></table></div>"
      ],
      "text/plain": [
       "shape: (5, 14)\n",
       "┌──────────┬────────────┬─────────┬────────────┬───┬────────────┬──────────┬──────────┬────────────┐\n",
       "│ id       ┆ data_provi ┆ country ┆ partner_pr ┆ … ┆ group_iden ┆ event_da ┆ problem  ┆ product_ca │\n",
       "│ ---      ┆ der        ┆ ---     ┆ oduct_cate ┆   ┆ tifier     ┆ te       ┆ ---      ┆ tegory     │\n",
       "│ str      ┆ ---        ┆ str     ┆ gory       ┆   ┆ ---        ┆ ---      ┆ str      ┆ ---        │\n",
       "│          ┆ str        ┆         ┆ ---        ┆   ┆ str        ┆ date     ┆          ┆ str        │\n",
       "│          ┆            ┆         ┆ str        ┆   ┆            ┆          ┆          ┆            │\n",
       "╞══════════╪════════════╪═════════╪════════════╪═══╪════════════╪══════════╪══════════╪════════════╡\n",
       "│ anstiftu ┆ anstiftung ┆ DEU     ┆ Elektro    ┆ … ┆ 5073       ┆ 2012-06- ┆ Funktion ┆ Sewing     │\n",
       "│ ng_2749  ┆            ┆         ┆ divers ~   ┆   ┆            ┆ 20       ┆ ierte    ┆ machine    │\n",
       "│          ┆            ┆         ┆ Nähmaschin ┆   ┆            ┆          ┆ nicht    ┆            │\n",
       "│          ┆            ┆         ┆ e          ┆   ┆            ┆          ┆ mehr.    ┆            │\n",
       "│          ┆            ┆         ┆            ┆   ┆            ┆          ┆ Fehler   ┆            │\n",
       "│          ┆            ┆         ┆            ┆   ┆            ┆          ┆ und      ┆            │\n",
       "│          ┆            ┆         ┆            ┆   ┆            ┆          ┆ Lösung   ┆            │\n",
       "│          ┆            ┆         ┆            ┆   ┆            ┆          ┆ nicht    ┆            │\n",
       "│          ┆            ┆         ┆            ┆   ┆            ┆          ┆ dokument ┆            │\n",
       "│          ┆            ┆         ┆            ┆   ┆            ┆          ┆ iert.    ┆            │\n",
       "│ anstiftu ┆ anstiftung ┆ DEU     ┆ Computer ~ ┆ … ┆ 5073       ┆ 2012-06- ┆ Wurde    ┆ Laptop     │\n",
       "│ ng_2750  ┆            ┆         ┆ Laptop     ┆   ┆            ┆ 20       ┆ schnell  ┆            │\n",
       "│          ┆            ┆         ┆            ┆   ┆            ┆          ┆ heiß.    ┆            │\n",
       "│          ┆            ┆         ┆            ┆   ┆            ┆          ┆ Der      ┆            │\n",
       "│          ┆            ┆         ┆            ┆   ┆            ┆          ┆ Lüfter   ┆            │\n",
       "│          ┆            ┆         ┆            ┆   ┆            ┆          ┆ war sehr ┆            │\n",
       "│          ┆            ┆         ┆            ┆   ┆            ┆          ┆ verschmu ┆            │\n",
       "│          ┆            ┆         ┆            ┆   ┆            ┆          ┆ tzt,     ┆            │\n",
       "│          ┆            ┆         ┆            ┆   ┆            ┆          ┆ wurde    ┆            │\n",
       "│          ┆            ┆         ┆            ┆   ┆            ┆          ┆ gereinig ┆            │\n",
       "│          ┆            ┆         ┆            ┆   ┆            ┆          ┆ t. Das   ┆            │\n",
       "│          ┆            ┆         ┆            ┆   ┆            ┆          ┆ nächste  ┆            │\n",
       "│          ┆            ┆         ┆            ┆   ┆            ┆          ┆ Mal      ┆            │\n",
       "│          ┆            ┆         ┆            ┆   ┆            ┆          ┆ müssen   ┆            │\n",
       "│          ┆            ┆         ┆            ┆   ┆            ┆          ┆ wir noc… ┆            │\n",
       "│ anstiftu ┆ anstiftung ┆ DEU     ┆ Computer ~ ┆ … ┆ 5073       ┆ 2012-06- ┆ Funktion ┆ Printer/sc │\n",
       "│ ng_2746  ┆            ┆         ┆ Drucker    ┆   ┆            ┆ 20       ┆ ierte    ┆ anner      │\n",
       "│          ┆            ┆         ┆            ┆   ┆            ┆          ┆ nicht    ┆            │\n",
       "│          ┆            ┆         ┆            ┆   ┆            ┆          ┆ mehr.    ┆            │\n",
       "│          ┆            ┆         ┆            ┆   ┆            ┆          ┆ Fehler   ┆            │\n",
       "│          ┆            ┆         ┆            ┆   ┆            ┆          ┆ und      ┆            │\n",
       "│          ┆            ┆         ┆            ┆   ┆            ┆          ┆ Lösung   ┆            │\n",
       "│          ┆            ┆         ┆            ┆   ┆            ┆          ┆ nicht    ┆            │\n",
       "│          ┆            ┆         ┆            ┆   ┆            ┆          ┆ dokument ┆            │\n",
       "│          ┆            ┆         ┆            ┆   ┆            ┆          ┆ iert.    ┆            │\n",
       "│ anstiftu ┆ anstiftung ┆ DEU     ┆ Unterhaltu ┆ … ┆ 5073       ┆ 2012-06- ┆ Funktion ┆ Headphones │\n",
       "│ ng_2747  ┆            ┆         ┆ ngselektro ┆   ┆            ┆ 20       ┆ ierte    ┆            │\n",
       "│          ┆            ┆         ┆ nik ~      ┆   ┆            ┆          ┆ nicht    ┆            │\n",
       "│          ┆            ┆         ┆ Kopfhörer  ┆   ┆            ┆          ┆ mehr.    ┆            │\n",
       "│          ┆            ┆         ┆            ┆   ┆            ┆          ┆ Fehler   ┆            │\n",
       "│          ┆            ┆         ┆            ┆   ┆            ┆          ┆ und      ┆            │\n",
       "│          ┆            ┆         ┆            ┆   ┆            ┆          ┆ Lösung   ┆            │\n",
       "│          ┆            ┆         ┆            ┆   ┆            ┆          ┆ nicht    ┆            │\n",
       "│          ┆            ┆         ┆            ┆   ┆            ┆          ┆ dokument ┆            │\n",
       "│          ┆            ┆         ┆            ┆   ┆            ┆          ┆ iert.    ┆            │\n",
       "│ anstiftu ┆ anstiftung ┆ DEU     ┆ Haushaltsg ┆ … ┆ 5073       ┆ 2012-09- ┆ Die      ┆ Toy        │\n",
       "│ ng_2742  ┆            ┆         ┆ eräte ~    ┆   ┆            ┆ 19       ┆ Beine    ┆            │\n",
       "│          ┆            ┆         ┆ Spielzeug  ┆   ┆            ┆          ┆ der      ┆            │\n",
       "│          ┆            ┆         ┆            ┆   ┆            ┆          ┆ Puppe    ┆            │\n",
       "│          ┆            ┆         ┆            ┆   ┆            ┆          ┆ waren    ┆            │\n",
       "│          ┆            ┆         ┆            ┆   ┆            ┆          ┆ ab. Sie  ┆            │\n",
       "│          ┆            ┆         ┆            ┆   ┆            ┆          ┆ waren    ┆            │\n",
       "│          ┆            ┆         ┆            ┆   ┆            ┆          ┆ mit      ┆            │\n",
       "│          ┆            ┆         ┆            ┆   ┆            ┆          ┆ Fäden an ┆            │\n",
       "│          ┆            ┆         ┆            ┆   ┆            ┆          ┆ der      ┆            │\n",
       "│          ┆            ┆         ┆            ┆   ┆            ┆          ┆ Hüfte    ┆            │\n",
       "│          ┆            ┆         ┆            ┆   ┆            ┆          ┆ befestig ┆            │\n",
       "│          ┆            ┆         ┆            ┆   ┆            ┆          ┆ t, damit ┆            │\n",
       "│          ┆            ┆         ┆            ┆   ┆            ┆          ┆ sie sich ┆            │\n",
       "│          ┆            ┆         ┆            ┆   ┆            ┆          ┆ auf      ┆            │\n",
       "│          ┆            ┆         ┆            ┆   ┆            ┆          ┆ drehen … ┆            │\n",
       "└──────────┴────────────┴─────────┴────────────┴───┴────────────┴──────────┴──────────┴────────────┘"
      ]
     },
     "execution_count": 5,
     "metadata": {},
     "output_type": "execute_result"
    }
   ],
   "source": [
    "df = df.select(pl.all().exclude(\"product_category\")).join(\n",
    "    categories, on=\"product_category_id\"\n",
    ")\n",
    "df.head()"
   ]
  },
  {
   "cell_type": "code",
   "execution_count": 6,
   "id": "69293a3f",
   "metadata": {},
   "outputs": [
    {
     "data": {
      "text/plain": [
       "81189"
      ]
     },
     "execution_count": 6,
     "metadata": {},
     "output_type": "execute_result"
    }
   ],
   "source": [
    "len(df)"
   ]
  },
  {
   "cell_type": "code",
   "execution_count": 7,
   "id": "806d5f19",
   "metadata": {},
   "outputs": [
    {
     "data": {
      "text/html": [
       "<div><style>\n",
       ".dataframe > thead > tr > th,\n",
       ".dataframe > tbody > tr > td {\n",
       "  text-align: right;\n",
       "}\n",
       "</style>\n",
       "<small>shape: (5, 2)</small><table border=\"1\" class=\"dataframe\"><thead><tr><th>country</th><th>counts</th></tr><tr><td>str</td><td>u32</td></tr></thead><tbody><tr><td>&quot;GBR&quot;</td><td>23141</td></tr><tr><td>&quot;NLD&quot;</td><td>22986</td></tr><tr><td>&quot;DEU&quot;</td><td>10532</td></tr><tr><td>&quot;BEL&quot;</td><td>7854</td></tr><tr><td>&quot;DNK&quot;</td><td>5150</td></tr></tbody></table></div>"
      ],
      "text/plain": [
       "shape: (5, 2)\n",
       "┌─────────┬────────┐\n",
       "│ country ┆ counts │\n",
       "│ ---     ┆ ---    │\n",
       "│ str     ┆ u32    │\n",
       "╞═════════╪════════╡\n",
       "│ GBR     ┆ 23141  │\n",
       "│ NLD     ┆ 22986  │\n",
       "│ DEU     ┆ 10532  │\n",
       "│ BEL     ┆ 7854   │\n",
       "│ DNK     ┆ 5150   │\n",
       "└─────────┴────────┘"
      ]
     },
     "execution_count": 7,
     "metadata": {},
     "output_type": "execute_result"
    }
   ],
   "source": [
    "df[\"country\"].value_counts().sort(\"counts\", descending=True).head()"
   ]
  },
  {
   "cell_type": "code",
   "execution_count": 8,
   "id": "30537441",
   "metadata": {},
   "outputs": [
    {
     "data": {
      "text/html": [
       "<div><style>\n",
       ".dataframe > thead > tr > th,\n",
       ".dataframe > tbody > tr > td {\n",
       "  text-align: right;\n",
       "}\n",
       "</style>\n",
       "<small>shape: (10, 2)</small><table border=\"1\" class=\"dataframe\"><thead><tr><th>product_category</th><th>counts</th></tr><tr><td>str</td><td>u32</td></tr></thead><tbody><tr><td>&quot;Lamp&quot;</td><td>5524</td></tr><tr><td>&quot;Vacuum&quot;</td><td>5437</td></tr><tr><td>&quot;Laptop&quot;</td><td>5092</td></tr><tr><td>&quot;Hi-Fi separates&quot;</td><td>5015</td></tr><tr><td>&quot;Small kitchen item&quot;</td><td>4682</td></tr><tr><td>&quot;Coffee maker&quot;</td><td>4638</td></tr><tr><td>&quot;Power tool&quot;</td><td>4038</td></tr><tr><td>&quot;Portable radio&quot;</td><td>3968</td></tr><tr><td>&quot;Food processor&quot;</td><td>3363</td></tr><tr><td>&quot;Small home electrical&quot;</td><td>2766</td></tr></tbody></table></div>"
      ],
      "text/plain": [
       "shape: (10, 2)\n",
       "┌───────────────────────┬────────┐\n",
       "│ product_category      ┆ counts │\n",
       "│ ---                   ┆ ---    │\n",
       "│ str                   ┆ u32    │\n",
       "╞═══════════════════════╪════════╡\n",
       "│ Lamp                  ┆ 5524   │\n",
       "│ Vacuum                ┆ 5437   │\n",
       "│ Laptop                ┆ 5092   │\n",
       "│ Hi-Fi separates       ┆ 5015   │\n",
       "│ …                     ┆ …      │\n",
       "│ Power tool            ┆ 4038   │\n",
       "│ Portable radio        ┆ 3968   │\n",
       "│ Food processor        ┆ 3363   │\n",
       "│ Small home electrical ┆ 2766   │\n",
       "└───────────────────────┴────────┘"
      ]
     },
     "execution_count": 8,
     "metadata": {},
     "output_type": "execute_result"
    }
   ],
   "source": [
    "df[\"product_category\"].value_counts().sort(by=\"counts\", descending=True).head(10)"
   ]
  },
  {
   "cell_type": "markdown",
   "id": "507e57c1",
   "metadata": {},
   "source": [
    "Minor correction needed for repair barrier: one part of [the standard](https://standard.openrepair.org/standard.html) specifies `\"Item too worn out\"`, the other says `\"Product too worn out\"`, but they are the same."
   ]
  },
  {
   "cell_type": "code",
   "execution_count": 9,
   "id": "8925a96c",
   "metadata": {},
   "outputs": [
    {
     "data": {
      "text/html": [
       "<div><style>\n",
       ".dataframe > thead > tr > th,\n",
       ".dataframe > tbody > tr > td {\n",
       "  text-align: right;\n",
       "}\n",
       "</style>\n",
       "<small>shape: (8, 2)</small><table border=\"1\" class=\"dataframe\"><thead><tr><th>repair_barrier_if_end_of_life</th><th>counts</th></tr><tr><td>str</td><td>u32</td></tr></thead><tbody><tr><td>&quot;No way to open the product&quot;</td><td>783</td></tr><tr><td>&quot;Lack of equipment&quot;</td><td>301</td></tr><tr><td>&quot;Repair information not available&quot;</td><td>511</td></tr><tr><td>&quot;Spare parts too expensive&quot;</td><td>700</td></tr><tr><td>null</td><td>76452</td></tr><tr><td>&quot;Spare parts not available&quot;</td><td>1695</td></tr><tr><td>&quot;Item too worn out&quot;</td><td>515</td></tr><tr><td>&quot;Product too worn out&quot;</td><td>232</td></tr></tbody></table></div>"
      ],
      "text/plain": [
       "shape: (8, 2)\n",
       "┌──────────────────────────────────┬────────┐\n",
       "│ repair_barrier_if_end_of_life    ┆ counts │\n",
       "│ ---                              ┆ ---    │\n",
       "│ str                              ┆ u32    │\n",
       "╞══════════════════════════════════╪════════╡\n",
       "│ No way to open the product       ┆ 783    │\n",
       "│ Lack of equipment                ┆ 301    │\n",
       "│ Repair information not available ┆ 511    │\n",
       "│ Spare parts too expensive        ┆ 700    │\n",
       "│ null                             ┆ 76452  │\n",
       "│ Spare parts not available        ┆ 1695   │\n",
       "│ Item too worn out                ┆ 515    │\n",
       "│ Product too worn out             ┆ 232    │\n",
       "└──────────────────────────────────┴────────┘"
      ]
     },
     "execution_count": 9,
     "metadata": {},
     "output_type": "execute_result"
    }
   ],
   "source": [
    "df[\"repair_barrier_if_end_of_life\"].value_counts()"
   ]
  },
  {
   "cell_type": "code",
   "execution_count": 10,
   "id": "aff1a32c",
   "metadata": {},
   "outputs": [
    {
     "data": {
      "text/html": [
       "<div><style>\n",
       ".dataframe > thead > tr > th,\n",
       ".dataframe > tbody > tr > td {\n",
       "  text-align: right;\n",
       "}\n",
       "</style>\n",
       "<small>shape: (7, 2)</small><table border=\"1\" class=\"dataframe\"><thead><tr><th>repair_barrier_if_end_of_life</th><th>counts</th></tr><tr><td>str</td><td>u32</td></tr></thead><tbody><tr><td>&quot;Spare parts too expensive&quot;</td><td>700</td></tr><tr><td>&quot;Product too worn out&quot;</td><td>747</td></tr><tr><td>&quot;Repair information not available&quot;</td><td>511</td></tr><tr><td>&quot;Spare parts not available&quot;</td><td>1695</td></tr><tr><td>&quot;Lack of equipment&quot;</td><td>301</td></tr><tr><td>&quot;No way to open the product&quot;</td><td>783</td></tr><tr><td>null</td><td>76452</td></tr></tbody></table></div>"
      ],
      "text/plain": [
       "shape: (7, 2)\n",
       "┌──────────────────────────────────┬────────┐\n",
       "│ repair_barrier_if_end_of_life    ┆ counts │\n",
       "│ ---                              ┆ ---    │\n",
       "│ str                              ┆ u32    │\n",
       "╞══════════════════════════════════╪════════╡\n",
       "│ Spare parts too expensive        ┆ 700    │\n",
       "│ Product too worn out             ┆ 747    │\n",
       "│ Repair information not available ┆ 511    │\n",
       "│ Spare parts not available        ┆ 1695   │\n",
       "│ Lack of equipment                ┆ 301    │\n",
       "│ No way to open the product       ┆ 783    │\n",
       "│ null                             ┆ 76452  │\n",
       "└──────────────────────────────────┴────────┘"
      ]
     },
     "execution_count": 10,
     "metadata": {},
     "output_type": "execute_result"
    }
   ],
   "source": [
    "df = df.with_columns(\n",
    "    pl.col(\"repair_barrier_if_end_of_life\").map_dict(\n",
    "        {\"Item too worn out\": \"Product too worn out\"},\n",
    "        default=pl.col(\"repair_barrier_if_end_of_life\"),\n",
    "    )\n",
    ")\n",
    "df[\"repair_barrier_if_end_of_life\"].value_counts()"
   ]
  },
  {
   "cell_type": "code",
   "execution_count": null,
   "id": "7aa74a0e-a5c8-4d6f-b5a7-720f4dea131d",
   "metadata": {},
   "outputs": [],
   "source": []
  }
 ],
 "metadata": {
  "kernelspec": {
   "display_name": "Python 3 (ipykernel)",
   "language": "python",
   "name": "python3"
  },
  "language_info": {
   "codemirror_mode": {
    "name": "ipython",
    "version": 3
   },
   "file_extension": ".py",
   "mimetype": "text/x-python",
   "name": "python",
   "nbconvert_exporter": "python",
   "pygments_lexer": "ipython3",
   "version": "3.10.9"
  }
 },
 "nbformat": 4,
 "nbformat_minor": 5
}
